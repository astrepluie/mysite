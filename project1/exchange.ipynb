{
 "cells": [
  {
   "cell_type": "code",
   "execution_count": 1,
   "id": "b00d29a1",
   "metadata": {},
   "outputs": [],
   "source": [
    "# 필요한 라이브러리 로드\n",
    "import pandas as pd\n",
    "import numpy as np\n",
    "import warnings\n",
    "import matplotlib.pyplot as plt\n",
    "\n",
    "warnings.filterwarnings('ignore')"
   ]
  },
  {
   "cell_type": "code",
   "execution_count": 2,
   "id": "015e5105",
   "metadata": {},
   "outputs": [],
   "source": [
    "# 서울외국환중개 환율 데이터 로드\n",
    "exchange = pd.read_csv('../data/환율.csv')"
   ]
  },
  {
   "cell_type": "code",
   "execution_count": 3,
   "id": "f96ce478",
   "metadata": {},
   "outputs": [
    {
     "name": "stdout",
     "output_type": "stream",
     "text": [
      "<class 'pandas.core.frame.DataFrame'>\n",
      "RangeIndex: 7824 entries, 0 to 7823\n",
      "Data columns (total 5 columns):\n",
      " #   Column  Non-Null Count  Dtype  \n",
      "---  ------  --------------  -----  \n",
      " 0   date    7824 non-null   object \n",
      " 1   open    7824 non-null   float64\n",
      " 2   high    7824 non-null   float64\n",
      " 3   low     7824 non-null   float64\n",
      " 4   close   7824 non-null   float64\n",
      "dtypes: float64(4), object(1)\n",
      "memory usage: 305.8+ KB\n"
     ]
    }
   ],
   "source": [
    "# 데이터 확인\n",
    "exchange.info()"
   ]
  },
  {
   "cell_type": "code",
   "execution_count": 4,
   "id": "88194985",
   "metadata": {},
   "outputs": [
    {
     "data": {
      "text/html": [
       "<div>\n",
       "<style scoped>\n",
       "    .dataframe tbody tr th:only-of-type {\n",
       "        vertical-align: middle;\n",
       "    }\n",
       "\n",
       "    .dataframe tbody tr th {\n",
       "        vertical-align: top;\n",
       "    }\n",
       "\n",
       "    .dataframe thead th {\n",
       "        text-align: right;\n",
       "    }\n",
       "</style>\n",
       "<table border=\"1\" class=\"dataframe\">\n",
       "  <thead>\n",
       "    <tr style=\"text-align: right;\">\n",
       "      <th></th>\n",
       "      <th>open</th>\n",
       "      <th>high</th>\n",
       "      <th>low</th>\n",
       "      <th>close</th>\n",
       "    </tr>\n",
       "  </thead>\n",
       "  <tbody>\n",
       "    <tr>\n",
       "      <th>count</th>\n",
       "      <td>7824.000000</td>\n",
       "      <td>7824.000000</td>\n",
       "      <td>7824.000000</td>\n",
       "      <td>7824.000000</td>\n",
       "    </tr>\n",
       "    <tr>\n",
       "      <th>mean</th>\n",
       "      <td>1024.510941</td>\n",
       "      <td>1031.471958</td>\n",
       "      <td>1024.784771</td>\n",
       "      <td>1025.439251</td>\n",
       "    </tr>\n",
       "    <tr>\n",
       "      <th>std</th>\n",
       "      <td>377.283736</td>\n",
       "      <td>374.839810</td>\n",
       "      <td>371.127579</td>\n",
       "      <td>376.284006</td>\n",
       "    </tr>\n",
       "    <tr>\n",
       "      <th>min</th>\n",
       "      <td>0.000000</td>\n",
       "      <td>0.000000</td>\n",
       "      <td>0.000000</td>\n",
       "      <td>0.000000</td>\n",
       "    </tr>\n",
       "    <tr>\n",
       "      <th>25%</th>\n",
       "      <td>1016.750000</td>\n",
       "      <td>1019.500000</td>\n",
       "      <td>1015.650000</td>\n",
       "      <td>1016.875000</td>\n",
       "    </tr>\n",
       "    <tr>\n",
       "      <th>50%</th>\n",
       "      <td>1130.000000</td>\n",
       "      <td>1132.800000</td>\n",
       "      <td>1127.100000</td>\n",
       "      <td>1129.550000</td>\n",
       "    </tr>\n",
       "    <tr>\n",
       "      <th>75%</th>\n",
       "      <td>1199.925000</td>\n",
       "      <td>1203.000000</td>\n",
       "      <td>1196.000000</td>\n",
       "      <td>1199.100000</td>\n",
       "    </tr>\n",
       "    <tr>\n",
       "      <th>max</th>\n",
       "      <td>1940.000000</td>\n",
       "      <td>1999.000000</td>\n",
       "      <td>1940.000000</td>\n",
       "      <td>1965.000000</td>\n",
       "    </tr>\n",
       "  </tbody>\n",
       "</table>\n",
       "</div>"
      ],
      "text/plain": [
       "              open         high          low        close\n",
       "count  7824.000000  7824.000000  7824.000000  7824.000000\n",
       "mean   1024.510941  1031.471958  1024.784771  1025.439251\n",
       "std     377.283736   374.839810   371.127579   376.284006\n",
       "min       0.000000     0.000000     0.000000     0.000000\n",
       "25%    1016.750000  1019.500000  1015.650000  1016.875000\n",
       "50%    1130.000000  1132.800000  1127.100000  1129.550000\n",
       "75%    1199.925000  1203.000000  1196.000000  1199.100000\n",
       "max    1940.000000  1999.000000  1940.000000  1965.000000"
      ]
     },
     "execution_count": 4,
     "metadata": {},
     "output_type": "execute_result"
    }
   ],
   "source": [
    "exchange.describe()"
   ]
  },
  {
   "cell_type": "code",
   "execution_count": 5,
   "id": "d5db011e",
   "metadata": {},
   "outputs": [],
   "source": [
    "# OHLC의 0을 nan으로 치환\n",
    "for col in ['open', 'high', 'low', 'close'] :\n",
    "    exchange.loc[exchange[col] == 0, col] = np.nan"
   ]
  },
  {
   "cell_type": "code",
   "execution_count": 6,
   "id": "65303413",
   "metadata": {},
   "outputs": [
    {
     "name": "stdout",
     "output_type": "stream",
     "text": [
      "<class 'pandas.core.frame.DataFrame'>\n",
      "RangeIndex: 7824 entries, 0 to 7823\n",
      "Data columns (total 5 columns):\n",
      " #   Column  Non-Null Count  Dtype  \n",
      "---  ------  --------------  -----  \n",
      " 0   date    7824 non-null   object \n",
      " 1   open    7001 non-null   float64\n",
      " 2   high    7027 non-null   float64\n",
      " 3   low     7027 non-null   float64\n",
      " 4   close   7007 non-null   float64\n",
      "dtypes: float64(4), object(1)\n",
      "memory usage: 305.8+ KB\n"
     ]
    }
   ],
   "source": [
    "# 데이터 재확인\n",
    "exchange.info()"
   ]
  },
  {
   "cell_type": "code",
   "execution_count": 7,
   "id": "01a9e0ec",
   "metadata": {},
   "outputs": [
    {
     "data": {
      "text/html": [
       "<div>\n",
       "<style scoped>\n",
       "    .dataframe tbody tr th:only-of-type {\n",
       "        vertical-align: middle;\n",
       "    }\n",
       "\n",
       "    .dataframe tbody tr th {\n",
       "        vertical-align: top;\n",
       "    }\n",
       "\n",
       "    .dataframe thead th {\n",
       "        text-align: right;\n",
       "    }\n",
       "</style>\n",
       "<table border=\"1\" class=\"dataframe\">\n",
       "  <thead>\n",
       "    <tr style=\"text-align: right;\">\n",
       "      <th></th>\n",
       "      <th>open</th>\n",
       "      <th>high</th>\n",
       "      <th>low</th>\n",
       "      <th>close</th>\n",
       "    </tr>\n",
       "  </thead>\n",
       "  <tbody>\n",
       "    <tr>\n",
       "      <th>count</th>\n",
       "      <td>7001.000000</td>\n",
       "      <td>7027.000000</td>\n",
       "      <td>7027.000000</td>\n",
       "      <td>7007.000000</td>\n",
       "    </tr>\n",
       "    <tr>\n",
       "      <th>mean</th>\n",
       "      <td>1144.946950</td>\n",
       "      <td>1148.461164</td>\n",
       "      <td>1141.015519</td>\n",
       "      <td>1145.003097</td>\n",
       "    </tr>\n",
       "    <tr>\n",
       "      <th>std</th>\n",
       "      <td>145.485218</td>\n",
       "      <td>148.547925</td>\n",
       "      <td>143.944003</td>\n",
       "      <td>145.535293</td>\n",
       "    </tr>\n",
       "    <tr>\n",
       "      <th>min</th>\n",
       "      <td>777.300000</td>\n",
       "      <td>778.300000</td>\n",
       "      <td>777.300000</td>\n",
       "      <td>777.400000</td>\n",
       "    </tr>\n",
       "    <tr>\n",
       "      <th>25%</th>\n",
       "      <td>1074.000000</td>\n",
       "      <td>1075.700000</td>\n",
       "      <td>1071.000000</td>\n",
       "      <td>1073.950000</td>\n",
       "    </tr>\n",
       "    <tr>\n",
       "      <th>50%</th>\n",
       "      <td>1141.000000</td>\n",
       "      <td>1144.200000</td>\n",
       "      <td>1137.300000</td>\n",
       "      <td>1141.000000</td>\n",
       "    </tr>\n",
       "    <tr>\n",
       "      <th>75%</th>\n",
       "      <td>1208.000000</td>\n",
       "      <td>1212.000000</td>\n",
       "      <td>1205.000000</td>\n",
       "      <td>1208.200000</td>\n",
       "    </tr>\n",
       "    <tr>\n",
       "      <th>max</th>\n",
       "      <td>1940.000000</td>\n",
       "      <td>1999.000000</td>\n",
       "      <td>1940.000000</td>\n",
       "      <td>1965.000000</td>\n",
       "    </tr>\n",
       "  </tbody>\n",
       "</table>\n",
       "</div>"
      ],
      "text/plain": [
       "              open         high          low        close\n",
       "count  7001.000000  7027.000000  7027.000000  7007.000000\n",
       "mean   1144.946950  1148.461164  1141.015519  1145.003097\n",
       "std     145.485218   148.547925   143.944003   145.535293\n",
       "min     777.300000   778.300000   777.300000   777.400000\n",
       "25%    1074.000000  1075.700000  1071.000000  1073.950000\n",
       "50%    1141.000000  1144.200000  1137.300000  1141.000000\n",
       "75%    1208.000000  1212.000000  1205.000000  1208.200000\n",
       "max    1940.000000  1999.000000  1940.000000  1965.000000"
      ]
     },
     "execution_count": 7,
     "metadata": {},
     "output_type": "execute_result"
    }
   ],
   "source": [
    "exchange.describe()"
   ]
  },
  {
   "cell_type": "code",
   "execution_count": 8,
   "id": "baafc67a",
   "metadata": {},
   "outputs": [],
   "source": [
    "# 주말 데이터 삭제\n",
    "exchange['weekday'] = exchange['date'].map(lambda x : pd.to_datetime(x)).dt.weekday\n",
    "exchange = exchange.loc[exchange['weekday'] < 5, : ]\n",
    "exchange.drop('weekday', axis=1, inplace=True)"
   ]
  },
  {
   "cell_type": "code",
   "execution_count": 9,
   "id": "fc44fd27",
   "metadata": {},
   "outputs": [
    {
     "name": "stdout",
     "output_type": "stream",
     "text": [
      "<class 'pandas.core.frame.DataFrame'>\n",
      "Index: 7319 entries, 0 to 7823\n",
      "Data columns (total 5 columns):\n",
      " #   Column  Non-Null Count  Dtype  \n",
      "---  ------  --------------  -----  \n",
      " 0   date    7319 non-null   object \n",
      " 1   open    7001 non-null   float64\n",
      " 2   high    7027 non-null   float64\n",
      " 3   low     7027 non-null   float64\n",
      " 4   close   7007 non-null   float64\n",
      "dtypes: float64(4), object(1)\n",
      "memory usage: 343.1+ KB\n"
     ]
    }
   ],
   "source": [
    "exchange.info()"
   ]
  },
  {
   "cell_type": "code",
   "execution_count": 10,
   "id": "028fe076",
   "metadata": {},
   "outputs": [],
   "source": [
    "# investing.com의 환율 데이터 로드\n",
    "invest1 = pd.read_csv('../data/USD_KRW 과거 데이터 (1).csv')\n",
    "invest2 = pd.read_csv('../data/USD_KRW 과거 데이터.csv')\n",
    "invest = pd.concat([invest1, invest2])\n",
    "invest.sort_values('date', inplace=True)\n",
    "invest.reset_index(drop=True,inplace=True)"
   ]
  },
  {
   "cell_type": "code",
   "execution_count": 11,
   "id": "cc5d8bbf",
   "metadata": {},
   "outputs": [
    {
     "name": "stdout",
     "output_type": "stream",
     "text": [
      "<class 'pandas.core.frame.DataFrame'>\n",
      "RangeIndex: 7718 entries, 0 to 7717\n",
      "Data columns (total 5 columns):\n",
      " #   Column  Non-Null Count  Dtype \n",
      "---  ------  --------------  ----- \n",
      " 0   date    7718 non-null   object\n",
      " 1   close   7718 non-null   object\n",
      " 2   open    7718 non-null   object\n",
      " 3   high    7718 non-null   object\n",
      " 4   low     7718 non-null   object\n",
      "dtypes: object(5)\n",
      "memory usage: 301.6+ KB\n"
     ]
    }
   ],
   "source": [
    "# 데이터 확인\n",
    "invest.info()"
   ]
  },
  {
   "cell_type": "code",
   "execution_count": 12,
   "id": "c893f62f",
   "metadata": {},
   "outputs": [
    {
     "data": {
      "text/html": [
       "<div>\n",
       "<style scoped>\n",
       "    .dataframe tbody tr th:only-of-type {\n",
       "        vertical-align: middle;\n",
       "    }\n",
       "\n",
       "    .dataframe tbody tr th {\n",
       "        vertical-align: top;\n",
       "    }\n",
       "\n",
       "    .dataframe thead th {\n",
       "        text-align: right;\n",
       "    }\n",
       "</style>\n",
       "<table border=\"1\" class=\"dataframe\">\n",
       "  <thead>\n",
       "    <tr style=\"text-align: right;\">\n",
       "      <th></th>\n",
       "      <th>date</th>\n",
       "      <th>close</th>\n",
       "      <th>open</th>\n",
       "      <th>high</th>\n",
       "      <th>low</th>\n",
       "    </tr>\n",
       "  </thead>\n",
       "  <tbody>\n",
       "    <tr>\n",
       "      <th>0</th>\n",
       "      <td>1996- 01- 02</td>\n",
       "      <td>775.70</td>\n",
       "      <td>775.80</td>\n",
       "      <td>775.80</td>\n",
       "      <td>775.80</td>\n",
       "    </tr>\n",
       "    <tr>\n",
       "      <th>1</th>\n",
       "      <td>1996- 01- 03</td>\n",
       "      <td>778.40</td>\n",
       "      <td>775.25</td>\n",
       "      <td>778.75</td>\n",
       "      <td>774.33</td>\n",
       "    </tr>\n",
       "    <tr>\n",
       "      <th>2</th>\n",
       "      <td>1996- 01- 04</td>\n",
       "      <td>787.10</td>\n",
       "      <td>778.00</td>\n",
       "      <td>787.95</td>\n",
       "      <td>777.73</td>\n",
       "    </tr>\n",
       "    <tr>\n",
       "      <th>3</th>\n",
       "      <td>1996- 01- 05</td>\n",
       "      <td>788.10</td>\n",
       "      <td>786.65</td>\n",
       "      <td>788.75</td>\n",
       "      <td>784.25</td>\n",
       "    </tr>\n",
       "    <tr>\n",
       "      <th>4</th>\n",
       "      <td>1996- 01- 08</td>\n",
       "      <td>788.10</td>\n",
       "      <td>788.15</td>\n",
       "      <td>791.85</td>\n",
       "      <td>787.60</td>\n",
       "    </tr>\n",
       "    <tr>\n",
       "      <th>5</th>\n",
       "      <td>1996- 01- 09</td>\n",
       "      <td>787.00</td>\n",
       "      <td>787.50</td>\n",
       "      <td>789.35</td>\n",
       "      <td>786.55</td>\n",
       "    </tr>\n",
       "    <tr>\n",
       "      <th>6</th>\n",
       "      <td>1996- 01- 10</td>\n",
       "      <td>787.80</td>\n",
       "      <td>786.45</td>\n",
       "      <td>788.25</td>\n",
       "      <td>785.60</td>\n",
       "    </tr>\n",
       "    <tr>\n",
       "      <th>7</th>\n",
       "      <td>1996- 01- 11</td>\n",
       "      <td>792.00</td>\n",
       "      <td>787.70</td>\n",
       "      <td>792.10</td>\n",
       "      <td>787.70</td>\n",
       "    </tr>\n",
       "    <tr>\n",
       "      <th>8</th>\n",
       "      <td>1996- 01- 12</td>\n",
       "      <td>790.50</td>\n",
       "      <td>791.10</td>\n",
       "      <td>793.35</td>\n",
       "      <td>789.55</td>\n",
       "    </tr>\n",
       "    <tr>\n",
       "      <th>9</th>\n",
       "      <td>1996- 01- 15</td>\n",
       "      <td>791.50</td>\n",
       "      <td>789.60</td>\n",
       "      <td>791.85</td>\n",
       "      <td>789.60</td>\n",
       "    </tr>\n",
       "  </tbody>\n",
       "</table>\n",
       "</div>"
      ],
      "text/plain": [
       "           date   close    open    high     low\n",
       "0  1996- 01- 02  775.70  775.80  775.80  775.80\n",
       "1  1996- 01- 03  778.40  775.25  778.75  774.33\n",
       "2  1996- 01- 04  787.10  778.00  787.95  777.73\n",
       "3  1996- 01- 05  788.10  786.65  788.75  784.25\n",
       "4  1996- 01- 08  788.10  788.15  791.85  787.60\n",
       "5  1996- 01- 09  787.00  787.50  789.35  786.55\n",
       "6  1996- 01- 10  787.80  786.45  788.25  785.60\n",
       "7  1996- 01- 11  792.00  787.70  792.10  787.70\n",
       "8  1996- 01- 12  790.50  791.10  793.35  789.55\n",
       "9  1996- 01- 15  791.50  789.60  791.85  789.60"
      ]
     },
     "execution_count": 12,
     "metadata": {},
     "output_type": "execute_result"
    }
   ],
   "source": [
    "invest.head(10)"
   ]
  },
  {
   "cell_type": "code",
   "execution_count": 13,
   "id": "1ade3586",
   "metadata": {},
   "outputs": [
    {
     "data": {
      "text/html": [
       "<div>\n",
       "<style scoped>\n",
       "    .dataframe tbody tr th:only-of-type {\n",
       "        vertical-align: middle;\n",
       "    }\n",
       "\n",
       "    .dataframe tbody tr th {\n",
       "        vertical-align: top;\n",
       "    }\n",
       "\n",
       "    .dataframe thead th {\n",
       "        text-align: right;\n",
       "    }\n",
       "</style>\n",
       "<table border=\"1\" class=\"dataframe\">\n",
       "  <thead>\n",
       "    <tr style=\"text-align: right;\">\n",
       "      <th></th>\n",
       "      <th>date</th>\n",
       "      <th>close</th>\n",
       "      <th>open</th>\n",
       "      <th>high</th>\n",
       "      <th>low</th>\n",
       "    </tr>\n",
       "  </thead>\n",
       "  <tbody>\n",
       "    <tr>\n",
       "      <th>7708</th>\n",
       "      <td>2025- 07- 29</td>\n",
       "      <td>1,388.39</td>\n",
       "      <td>1,389.93</td>\n",
       "      <td>1,396.49</td>\n",
       "      <td>1,386.39</td>\n",
       "    </tr>\n",
       "    <tr>\n",
       "      <th>7709</th>\n",
       "      <td>2025- 07- 30</td>\n",
       "      <td>1,393.18</td>\n",
       "      <td>1,388.36</td>\n",
       "      <td>1,395.97</td>\n",
       "      <td>1,378.10</td>\n",
       "    </tr>\n",
       "    <tr>\n",
       "      <th>7710</th>\n",
       "      <td>2025- 07- 31</td>\n",
       "      <td>1,392.47</td>\n",
       "      <td>1,393.18</td>\n",
       "      <td>1,398.87</td>\n",
       "      <td>1,385.79</td>\n",
       "    </tr>\n",
       "    <tr>\n",
       "      <th>7711</th>\n",
       "      <td>2025- 08- 01</td>\n",
       "      <td>1,389.03</td>\n",
       "      <td>1,392.93</td>\n",
       "      <td>1,406.77</td>\n",
       "      <td>1,383.50</td>\n",
       "    </tr>\n",
       "    <tr>\n",
       "      <th>7712</th>\n",
       "      <td>2025- 08- 03</td>\n",
       "      <td>1,391.18</td>\n",
       "      <td>1,388.79</td>\n",
       "      <td>1,391.18</td>\n",
       "      <td>1,390.16</td>\n",
       "    </tr>\n",
       "    <tr>\n",
       "      <th>7713</th>\n",
       "      <td>2025- 08- 04</td>\n",
       "      <td>1,385.57</td>\n",
       "      <td>1,389.04</td>\n",
       "      <td>1,391.18</td>\n",
       "      <td>1,380.42</td>\n",
       "    </tr>\n",
       "    <tr>\n",
       "      <th>7714</th>\n",
       "      <td>2025- 08- 05</td>\n",
       "      <td>1,386.79</td>\n",
       "      <td>1,385.59</td>\n",
       "      <td>1,393.74</td>\n",
       "      <td>1,382.10</td>\n",
       "    </tr>\n",
       "    <tr>\n",
       "      <th>7715</th>\n",
       "      <td>2025- 08- 06</td>\n",
       "      <td>1,384.67</td>\n",
       "      <td>1,386.48</td>\n",
       "      <td>1,391.80</td>\n",
       "      <td>1,383.82</td>\n",
       "    </tr>\n",
       "    <tr>\n",
       "      <th>7716</th>\n",
       "      <td>2025- 08- 07</td>\n",
       "      <td>1,383.70</td>\n",
       "      <td>1,384.81</td>\n",
       "      <td>1,388.60</td>\n",
       "      <td>1,378.16</td>\n",
       "    </tr>\n",
       "    <tr>\n",
       "      <th>7717</th>\n",
       "      <td>2025- 08- 08</td>\n",
       "      <td>1,388.83</td>\n",
       "      <td>1,383.41</td>\n",
       "      <td>1,392.43</td>\n",
       "      <td>1,379.35</td>\n",
       "    </tr>\n",
       "  </tbody>\n",
       "</table>\n",
       "</div>"
      ],
      "text/plain": [
       "              date     close      open      high       low\n",
       "7708  2025- 07- 29  1,388.39  1,389.93  1,396.49  1,386.39\n",
       "7709  2025- 07- 30  1,393.18  1,388.36  1,395.97  1,378.10\n",
       "7710  2025- 07- 31  1,392.47  1,393.18  1,398.87  1,385.79\n",
       "7711  2025- 08- 01  1,389.03  1,392.93  1,406.77  1,383.50\n",
       "7712  2025- 08- 03  1,391.18  1,388.79  1,391.18  1,390.16\n",
       "7713  2025- 08- 04  1,385.57  1,389.04  1,391.18  1,380.42\n",
       "7714  2025- 08- 05  1,386.79  1,385.59  1,393.74  1,382.10\n",
       "7715  2025- 08- 06  1,384.67  1,386.48  1,391.80  1,383.82\n",
       "7716  2025- 08- 07  1,383.70  1,384.81  1,388.60  1,378.16\n",
       "7717  2025- 08- 08  1,388.83  1,383.41  1,392.43  1,379.35"
      ]
     },
     "execution_count": 13,
     "metadata": {},
     "output_type": "execute_result"
    }
   ],
   "source": [
    "invest.tail(10)"
   ]
  },
  {
   "cell_type": "code",
   "execution_count": 14,
   "id": "471ab670",
   "metadata": {},
   "outputs": [],
   "source": [
    "for col in invest.columns[1:] :\n",
    "    invest[col] = (invest[col].str.replace(',','')).astype(float)"
   ]
  },
  {
   "cell_type": "code",
   "execution_count": 15,
   "id": "b238ecea",
   "metadata": {},
   "outputs": [
    {
     "name": "stdout",
     "output_type": "stream",
     "text": [
      "<class 'pandas.core.frame.DataFrame'>\n",
      "RangeIndex: 7718 entries, 0 to 7717\n",
      "Data columns (total 5 columns):\n",
      " #   Column  Non-Null Count  Dtype  \n",
      "---  ------  --------------  -----  \n",
      " 0   date    7718 non-null   object \n",
      " 1   close   7718 non-null   float64\n",
      " 2   open    7718 non-null   float64\n",
      " 3   high    7718 non-null   float64\n",
      " 4   low     7718 non-null   float64\n",
      "dtypes: float64(4), object(1)\n",
      "memory usage: 301.6+ KB\n"
     ]
    }
   ],
   "source": [
    "invest.info()"
   ]
  },
  {
   "cell_type": "code",
   "execution_count": 16,
   "id": "ce51fa77",
   "metadata": {},
   "outputs": [
    {
     "data": {
      "text/html": [
       "<div>\n",
       "<style scoped>\n",
       "    .dataframe tbody tr th:only-of-type {\n",
       "        vertical-align: middle;\n",
       "    }\n",
       "\n",
       "    .dataframe tbody tr th {\n",
       "        vertical-align: top;\n",
       "    }\n",
       "\n",
       "    .dataframe thead th {\n",
       "        text-align: right;\n",
       "    }\n",
       "</style>\n",
       "<table border=\"1\" class=\"dataframe\">\n",
       "  <thead>\n",
       "    <tr style=\"text-align: right;\">\n",
       "      <th></th>\n",
       "      <th>close</th>\n",
       "      <th>open</th>\n",
       "      <th>high</th>\n",
       "      <th>low</th>\n",
       "    </tr>\n",
       "  </thead>\n",
       "  <tbody>\n",
       "    <tr>\n",
       "      <th>count</th>\n",
       "      <td>7718.000000</td>\n",
       "      <td>7718.000000</td>\n",
       "      <td>7718.000000</td>\n",
       "      <td>7718.000000</td>\n",
       "    </tr>\n",
       "    <tr>\n",
       "      <th>mean</th>\n",
       "      <td>1147.759839</td>\n",
       "      <td>1148.578307</td>\n",
       "      <td>1154.271016</td>\n",
       "      <td>1143.350579</td>\n",
       "    </tr>\n",
       "    <tr>\n",
       "      <th>std</th>\n",
       "      <td>147.290576</td>\n",
       "      <td>147.155267</td>\n",
       "      <td>150.820803</td>\n",
       "      <td>144.700757</td>\n",
       "    </tr>\n",
       "    <tr>\n",
       "      <th>min</th>\n",
       "      <td>775.700000</td>\n",
       "      <td>775.250000</td>\n",
       "      <td>775.800000</td>\n",
       "      <td>521.900000</td>\n",
       "    </tr>\n",
       "    <tr>\n",
       "      <th>25%</th>\n",
       "      <td>1076.442500</td>\n",
       "      <td>1077.137500</td>\n",
       "      <td>1080.840000</td>\n",
       "      <td>1073.492500</td>\n",
       "    </tr>\n",
       "    <tr>\n",
       "      <th>50%</th>\n",
       "      <td>1145.655000</td>\n",
       "      <td>1146.325000</td>\n",
       "      <td>1151.450000</td>\n",
       "      <td>1141.540000</td>\n",
       "    </tr>\n",
       "    <tr>\n",
       "      <th>75%</th>\n",
       "      <td>1218.105000</td>\n",
       "      <td>1221.075000</td>\n",
       "      <td>1226.962500</td>\n",
       "      <td>1214.510000</td>\n",
       "    </tr>\n",
       "    <tr>\n",
       "      <th>max</th>\n",
       "      <td>1960.000000</td>\n",
       "      <td>1905.000000</td>\n",
       "      <td>1997.500000</td>\n",
       "      <td>1835.000000</td>\n",
       "    </tr>\n",
       "  </tbody>\n",
       "</table>\n",
       "</div>"
      ],
      "text/plain": [
       "             close         open         high          low\n",
       "count  7718.000000  7718.000000  7718.000000  7718.000000\n",
       "mean   1147.759839  1148.578307  1154.271016  1143.350579\n",
       "std     147.290576   147.155267   150.820803   144.700757\n",
       "min     775.700000   775.250000   775.800000   521.900000\n",
       "25%    1076.442500  1077.137500  1080.840000  1073.492500\n",
       "50%    1145.655000  1146.325000  1151.450000  1141.540000\n",
       "75%    1218.105000  1221.075000  1226.962500  1214.510000\n",
       "max    1960.000000  1905.000000  1997.500000  1835.000000"
      ]
     },
     "execution_count": 16,
     "metadata": {},
     "output_type": "execute_result"
    }
   ],
   "source": [
    "invest.describe()"
   ]
  },
  {
   "cell_type": "code",
   "execution_count": 17,
   "id": "282c808f",
   "metadata": {},
   "outputs": [],
   "source": [
    "# 날짜 형식 통일\n",
    "invest['date'] = invest['date'].str.replace('- ', '.')"
   ]
  },
  {
   "cell_type": "code",
   "execution_count": 18,
   "id": "d5ef2d05",
   "metadata": {},
   "outputs": [],
   "source": [
    "# 서울외국환중개에서 받은 환율 데이터의 nan을 investing.com의 데이터로 대체\n",
    "for col in exchange.columns[1:] :\n",
    "    for idx in exchange.loc[exchange[col].isna(), : ].index :\n",
    "        day = exchange.loc[idx, 'date']\n",
    "        try :\n",
    "            exchange.loc[idx, [col]] = invest.loc[invest['date'] == day, col].values[0]\n",
    "        except :\n",
    "            pass"
   ]
  },
  {
   "cell_type": "code",
   "execution_count": 19,
   "id": "c5513379",
   "metadata": {},
   "outputs": [
    {
     "name": "stdout",
     "output_type": "stream",
     "text": [
      "<class 'pandas.core.frame.DataFrame'>\n",
      "Index: 7319 entries, 0 to 7823\n",
      "Data columns (total 5 columns):\n",
      " #   Column  Non-Null Count  Dtype  \n",
      "---  ------  --------------  -----  \n",
      " 0   date    7319 non-null   object \n",
      " 1   open    7319 non-null   float64\n",
      " 2   high    7319 non-null   float64\n",
      " 3   low     7319 non-null   float64\n",
      " 4   close   7319 non-null   float64\n",
      "dtypes: float64(4), object(1)\n",
      "memory usage: 601.1+ KB\n"
     ]
    }
   ],
   "source": [
    "# 데이터 확인\n",
    "exchange.info()"
   ]
  },
  {
   "cell_type": "code",
   "execution_count": 20,
   "id": "0b198819",
   "metadata": {},
   "outputs": [
    {
     "data": {
      "text/html": [
       "<div>\n",
       "<style scoped>\n",
       "    .dataframe tbody tr th:only-of-type {\n",
       "        vertical-align: middle;\n",
       "    }\n",
       "\n",
       "    .dataframe tbody tr th {\n",
       "        vertical-align: top;\n",
       "    }\n",
       "\n",
       "    .dataframe thead th {\n",
       "        text-align: right;\n",
       "    }\n",
       "</style>\n",
       "<table border=\"1\" class=\"dataframe\">\n",
       "  <thead>\n",
       "    <tr style=\"text-align: right;\">\n",
       "      <th></th>\n",
       "      <th>open</th>\n",
       "      <th>high</th>\n",
       "      <th>low</th>\n",
       "      <th>close</th>\n",
       "    </tr>\n",
       "  </thead>\n",
       "  <tbody>\n",
       "    <tr>\n",
       "      <th>count</th>\n",
       "      <td>7319.000000</td>\n",
       "      <td>7319.000000</td>\n",
       "      <td>7319.000000</td>\n",
       "      <td>7319.000000</td>\n",
       "    </tr>\n",
       "    <tr>\n",
       "      <th>mean</th>\n",
       "      <td>1148.423505</td>\n",
       "      <td>1152.122973</td>\n",
       "      <td>1144.652737</td>\n",
       "      <td>1148.204405</td>\n",
       "    </tr>\n",
       "    <tr>\n",
       "      <th>std</th>\n",
       "      <td>146.920326</td>\n",
       "      <td>149.321148</td>\n",
       "      <td>144.885180</td>\n",
       "      <td>146.814042</td>\n",
       "    </tr>\n",
       "    <tr>\n",
       "      <th>min</th>\n",
       "      <td>775.250000</td>\n",
       "      <td>778.300000</td>\n",
       "      <td>774.330000</td>\n",
       "      <td>777.400000</td>\n",
       "    </tr>\n",
       "    <tr>\n",
       "      <th>25%</th>\n",
       "      <td>1076.600000</td>\n",
       "      <td>1079.450000</td>\n",
       "      <td>1074.000000</td>\n",
       "      <td>1076.800000</td>\n",
       "    </tr>\n",
       "    <tr>\n",
       "      <th>50%</th>\n",
       "      <td>1146.000000</td>\n",
       "      <td>1148.900000</td>\n",
       "      <td>1143.000000</td>\n",
       "      <td>1146.000000</td>\n",
       "    </tr>\n",
       "    <tr>\n",
       "      <th>75%</th>\n",
       "      <td>1220.000000</td>\n",
       "      <td>1223.850000</td>\n",
       "      <td>1216.050000</td>\n",
       "      <td>1219.300000</td>\n",
       "    </tr>\n",
       "    <tr>\n",
       "      <th>max</th>\n",
       "      <td>1940.000000</td>\n",
       "      <td>1999.000000</td>\n",
       "      <td>1940.000000</td>\n",
       "      <td>1965.000000</td>\n",
       "    </tr>\n",
       "  </tbody>\n",
       "</table>\n",
       "</div>"
      ],
      "text/plain": [
       "              open         high          low        close\n",
       "count  7319.000000  7319.000000  7319.000000  7319.000000\n",
       "mean   1148.423505  1152.122973  1144.652737  1148.204405\n",
       "std     146.920326   149.321148   144.885180   146.814042\n",
       "min     775.250000   778.300000   774.330000   777.400000\n",
       "25%    1076.600000  1079.450000  1074.000000  1076.800000\n",
       "50%    1146.000000  1148.900000  1143.000000  1146.000000\n",
       "75%    1220.000000  1223.850000  1216.050000  1219.300000\n",
       "max    1940.000000  1999.000000  1940.000000  1965.000000"
      ]
     },
     "execution_count": 20,
     "metadata": {},
     "output_type": "execute_result"
    }
   ],
   "source": [
    "exchange.describe()"
   ]
  },
  {
   "cell_type": "code",
   "execution_count": 21,
   "id": "404fc1e1",
   "metadata": {},
   "outputs": [],
   "source": [
    "exchange.to_csv('../data/USD_KRW.csv', index=False)"
   ]
  },
  {
   "cell_type": "code",
   "execution_count": 88,
   "id": "878f3a72",
   "metadata": {},
   "outputs": [
    {
     "data": {
      "image/png": "[encoded data removed]",
      "text/plain": [
       "<Figure size 640x480 with 1 Axes>"
      ]
     },
     "metadata": {},
     "output_type": "display_data"
    }
   ],
   "source": [
    "plt.boxplot(\n",
    "    [exchange['open'], exchange['high'], exchange['low'], exchange['close']],\n",
    "    labels = ['open', 'high', 'low', 'close']\n",
    ")\n",
    "plt.show()"
   ]
  },
  {
   "cell_type": "code",
   "execution_count": 99,
   "id": "800c6f31",
   "metadata": {},
   "outputs": [
    {
     "data": {
      "image/png": "[encoded data removed]",
      "text/plain": [
       "<Figure size 640x480 with 1 Axes>"
      ]
     },
     "metadata": {},
     "output_type": "display_data"
    }
   ],
   "source": [
    "fig, ax = plt.subplots()\n",
    "parts = ax.violinplot(\n",
    "    [exchange['open'], exchange['high'], exchange['low'], exchange['close']],\n",
    "    positions=np.arange(1, 5)\n",
    ")\n",
    "\n",
    "for pc in parts['bodies']:\n",
    "    pc.set_alpha(0.8)\n",
    "\n",
    "labels = ['open', 'high', 'low', 'close']\n",
    "ax.set_xticks(np.arange(1, 5))\n",
    "ax.set_xticklabels(labels)\n",
    "\n",
    "plt.show()"
   ]
  },
  {
   "cell_type": "code",
   "execution_count": 95,
   "id": "01c4b3e7",
   "metadata": {},
   "outputs": [
    {
     "data": {
      "image/png": "[encoded data removed]",
      "text/plain": [
       "<Figure size 640x480 with 1 Axes>"
      ]
     },
     "metadata": {},
     "output_type": "display_data"
    }
   ],
   "source": [
    "plt.hist(exchange['close'], bins = 100, width = 10)\n",
    "plt.show()"
   ]
  },
  {
   "cell_type": "code",
   "execution_count": null,
   "id": "0b36a925",
   "metadata": {},
   "outputs": [
    {
     "data": {
      "image/png": "[encoded data removed]",
      "text/plain": [
       "<Figure size 640x480 with 1 Axes>"
      ]
     },
     "metadata": {},
     "output_type": "display_data"
    }
   ],
   "source": [
    "# 종가 일변화율 확인\n",
    "dayrate = ((exchange['close'] - exchange['close'].shift())/exchange['close'].shift()).fillna(0)\n",
    "plt.hist(dayrate, bins = 100, width = 0.003)\n",
    "plt.xlim(-0.05,0.05)\n",
    "plt.show()"
   ]
  }
 ],
 "metadata": {
  "kernelspec": {
   "display_name": "Python 3",
   "language": "python",
   "name": "python3"
  },
  "language_info": {
   "codemirror_mode": {
    "name": "ipython",
    "version": 3
   },
   "file_extension": ".py",
   "mimetype": "text/x-python",
   "name": "python",
   "nbconvert_exporter": "python",
   "pygments_lexer": "ipython3",
   "version": "3.8.7"
  }
 },
 "nbformat": 4,
 "nbformat_minor": 5
}
