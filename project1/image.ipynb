{
 "cells": [
  {
   "cell_type": "code",
   "execution_count": 1,
   "id": "fdc89775",
   "metadata": {},
   "outputs": [],
   "source": [
    "# 필요한 라이브러리 호출\n",
    "import pandas as pd\n",
    "import mplfinance as mpf\n",
    "import numpy as np\n",
    "import matplotlib.pyplot as plt\n",
    "import warnings\n",
    "from datetime import datetime\n",
    "\n",
    "warnings.filterwarnings('ignore')"
   ]
  },
  {
   "cell_type": "code",
   "execution_count": 2,
   "id": "c474e047",
   "metadata": {},
   "outputs": [],
   "source": [
    "# 환율데이터 로드\n",
    "day = pd.read_csv('../data/일별환율.csv')"
   ]
  },
  {
   "cell_type": "code",
   "execution_count": 5,
   "id": "ab06e274",
   "metadata": {},
   "outputs": [],
   "source": [
    "# mplfinance 라이브러리를 사용하기 위해서는 index가 datetime이어야함\n",
    "day.index = day['date'].map(lambda x : datetime.strptime(x, '%Y-%m-%d'))"
   ]
  },
  {
   "cell_type": "code",
   "execution_count": 7,
   "id": "166002ea",
   "metadata": {},
   "outputs": [],
   "source": [
    "# mplfinance 라이브러리를 사용하기 위해서는 데이터프레임에 Open, High, Low, Close 컬럼이 필요\n",
    "# 거래량을 addplot이 아니라 내장 함수의 기능으로 자동 삽입하기 위해선 Volume 컬럼도 필요\n",
    "day.rename(\n",
    "    columns = {\n",
    "        'open' : 'Open',\n",
    "        'high' : 'High',\n",
    "        'low' : 'Low',\n",
    "        'close' : 'Close',\n",
    "        'volume' : 'Volume'\n",
    "    },\n",
    "    inplace = True\n",
    ")"
   ]
  },
  {
   "cell_type": "code",
   "execution_count": 8,
   "id": "1f58ae31",
   "metadata": {},
   "outputs": [],
   "source": [
    "# 그래프 스타일 지정\n",
    "custom_style = mpf.make_mpf_style(\n",
    "    base_mpf_style='nightclouds',   # 어두운 배경\n",
    "    facecolor='black',              # 전체 배경\n",
    "    edgecolor='black',\n",
    "    gridcolor='black',              # 격자 없애기\n",
    "    rc={\n",
    "        'axes.edgecolor': 'black',  # 축 선 제거\n",
    "        'xtick.color': 'black',\n",
    "        'ytick.color': 'black',\n",
    "        'axes.labelcolor': 'black'\n",
    "    }\n",
    ")"
   ]
  },
  {
   "cell_type": "code",
   "execution_count": null,
   "id": "2f3a3f71",
   "metadata": {},
   "outputs": [],
   "source": [
    "for i in range(len(day)-5) :\n",
    "    # 거래량\n",
    "    addplots = [\n",
    "        mpf.make_addplot(\n",
    "            day.iloc[i:i+5, 6],\n",
    "            type='bar',\n",
    "            panel=1,\n",
    "            color='white',\n",
    "            width=0.2\n",
    "        )\n",
    "    ]\n",
    "\n",
    "    # 플롯 그리기\n",
    "    fig, axlist = mpf.plot(\n",
    "        day.iloc[i:i+5, : ],\n",
    "        type='ohlc',\n",
    "        style=custom_style,\n",
    "        axisoff=True,        # x, y축 값 모두 제거\n",
    "        ylabel='',           # y축 라벨 제거\n",
    "        ylabel_lower='',\n",
    "        datetime_format='',\n",
    "        xrotation=0,\n",
    "        addplot=addplots,\n",
    "        figsize=(1,1),\n",
    "        panel_ratios=(4, 1),\n",
    "        returnfig=True,\n",
    "        tight_layout=True\n",
    "    )\n",
    "\n",
    "    # 저장\n",
    "    fig.savefig(f'../환율이미지/5일/{day.iloc[i:i+5,0][0]}.png', dpi=100, bbox_inches='tight', pad_inches=0)\n",
    "    \n",
    "    # 메모리 정리\n",
    "    plt.close(fig)"
   ]
  }
 ],
 "metadata": {
  "kernelspec": {
   "display_name": "Python 3",
   "language": "python",
   "name": "python3"
  },
  "language_info": {
   "codemirror_mode": {
    "name": "ipython",
    "version": 3
   },
   "file_extension": ".py",
   "mimetype": "text/x-python",
   "name": "python",
   "nbconvert_exporter": "python",
   "pygments_lexer": "ipython3",
   "version": "3.8.7"
  }
 },
 "nbformat": 4,
 "nbformat_minor": 5
}
